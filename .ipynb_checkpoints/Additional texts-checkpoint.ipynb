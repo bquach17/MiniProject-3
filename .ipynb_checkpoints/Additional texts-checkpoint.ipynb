{
 "cells": [
  {
   "cell_type": "code",
   "execution_count": 81,
   "metadata": {},
   "outputs": [],
   "source": [
    "import nltk\n",
    "from functools import lru_cache\n",
    "from itertools import product as iterprod\n",
    "\n",
    "try:\n",
    "    arpabet = nltk.corpus.cmudict.dict()\n",
    "except LookupError:\n",
    "    nltk.download('cmudict')\n",
    "    arpabet = nltk.corpus.cmudict.dict()\n",
    "\n",
    "def wordbreak(s):\n",
    "    s = s.lower()\n",
    "    if s in arpabet:\n",
    "        return arpabet[s]\n",
    "    middle = len(s)/2\n",
    "    partition = sorted(list(range(len(s))), key=lambda x: (x-middle)**2-x)\n",
    "    for i in partition:\n",
    "        pre, suf = (s[:i], s[i:])\n",
    "        if pre in arpabet and wordbreak(suf) is not None:\n",
    "            return [x+y for x,y in iterprod(arpabet[pre], wordbreak(suf))]\n",
    "    return None\n",
    "\n",
    "def checkInt(s):\n",
    "    '''Check if string contains int'''\n",
    "    try:\n",
    "        int(s)\n",
    "        return True\n",
    "    except ValueError:\n",
    "        return False\n",
    "\n",
    "def stresses(word):\n",
    "    '''Returns dictionary of\n",
    "        key: number of syllables\n",
    "        value: stresses as a string ex. computer: '010' '''\n",
    "    dicts = {}\n",
    "    lsts = wordbreak(word)\n",
    "    st = ''\n",
    "    for lst in lsts:\n",
    "        if type(lst) == list:\n",
    "            s = ''\n",
    "            for letter in lst:\n",
    "                if checkInt(letter[-1]):\n",
    "                    s += letter[-1]\n",
    "            dicts[len(s)] = s\n",
    "        else:\n",
    "            if checkInt(lst[-1]):\n",
    "                    st += lst[-1]\n",
    "            dicts[len(st)] = st\n",
    "    return dicts\n"
   ]
  },
  {
   "cell_type": "code",
   "execution_count": 82,
   "metadata": {},
   "outputs": [],
   "source": [
    "import os\n",
    "text = open(os.path.join(os.getcwd(), 'data/spenser.txt')).read()\n",
    "\n",
    "lst = text.splitlines()\n",
    "prev_poem = 'a'\n",
    "poems = ''\n",
    "for i, poem in enumerate(lst):\n",
    "    if len(poem) > 10:\n",
    "        poems += poem\n",
    "    prev_poem = poem"
   ]
  },
  {
   "cell_type": "code",
   "execution_count": 83,
   "metadata": {},
   "outputs": [],
   "source": [
    "from nltk.tokenize import TweetTokenizer\n",
    "tknzr = TweetTokenizer()"
   ]
  },
  {
   "cell_type": "code",
   "execution_count": 84,
   "metadata": {},
   "outputs": [],
   "source": [
    "lst = tknzr.tokenize(poems)\n",
    "punct = [',',';','(',')',\"'\",'?','.', ':','&']\n",
    "path = 'data/syllable.txt'\n",
    "writing = open(path,'w')\n",
    "\n",
    "for word in lst:\n",
    "    if word not in punct:\n",
    "        try:\n",
    "            s = word + ' ' + str(len(list(stresses(word).values())[0])) + '\\n'\n",
    "            writing.write(s)\n",
    "        except TypeError:\n",
    "            print(word)"
   ]
  },
  {
   "cell_type": "code",
   "execution_count": 79,
   "metadata": {},
   "outputs": [
    {
     "data": {
      "text/plain": [
       "['100', '10']"
      ]
     },
     "execution_count": 79,
     "metadata": {},
     "output_type": "execute_result"
    }
   ],
   "source": [
    "list(stresses('natural').values())[0]"
   ]
  },
  {
   "cell_type": "code",
   "execution_count": null,
   "metadata": {},
   "outputs": [],
   "source": []
  }
 ],
 "metadata": {
  "kernelspec": {
   "display_name": "Python 3",
   "language": "python",
   "name": "python3"
  },
  "language_info": {
   "codemirror_mode": {
    "name": "ipython",
    "version": 3
   },
   "file_extension": ".py",
   "mimetype": "text/x-python",
   "name": "python",
   "nbconvert_exporter": "python",
   "pygments_lexer": "ipython3",
   "version": "3.6.8"
  }
 },
 "nbformat": 4,
 "nbformat_minor": 2
}
